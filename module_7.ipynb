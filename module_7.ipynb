{
 "cells": [
  {
   "cell_type": "markdown",
   "id": "d94210c8",
   "metadata": {},
   "source": [
    "# File\n",
    "read, write(existing data will be cleared), append(data will be added to the end of the file)"
   ]
  },
  {
   "cell_type": "markdown",
   "id": "3e3700be",
   "metadata": {},
   "source": [
    "## Reading a file"
   ]
  },
  {
   "cell_type": "code",
   "execution_count": null,
   "id": "738ae5e4",
   "metadata": {},
   "outputs": [
    {
     "name": "stdout",
     "output_type": "stream",
     "text": [
      "Hello from sample.txt\n",
      "This is a sample text file.\n",
      "[]\n",
      "Hello from sample.txt\n",
      "This is a sample text file."
     ]
    }
   ],
   "source": [
    "file = open(\"sample.txt\", \"r\")\n",
    "content = file.read()   # Reads the whole file and stores in a string\n",
    "content__list = file.readlines()    # Reads line by line and stores in a list\n",
    "\n",
    "print(content)  #String type data\n",
    "print(content__list)  #List type data\n",
    "\n",
    "file.close()    # Closing the file after use is a good practice\n",
    "\n",
    "\n",
    "with open(\"sample.txt\", \"r\") as file:\n",
    "    # content = file.read()\n",
    "    # print(content)\n",
    "\n",
    "    for line in file:\n",
    "        print(line, end=\"\")     # end=\"\" to avoid double new lines or use line.strip() to remove extra new lines\n",
    "        # print(line.strip())   # to remove extra new lines\n",
    "\n",
    "    # No need to close the file, it will be closed automatically after the with block"
   ]
  },
  {
   "cell_type": "markdown",
   "id": "365a731c",
   "metadata": {},
   "source": [
    "## Writing to a file"
   ]
  },
  {
   "cell_type": "code",
   "execution_count": 17,
   "id": "56b84791",
   "metadata": {},
   "outputs": [],
   "source": [
    "# write mode (existing data will be cleared)\n",
    "# !Note : Be careful when using write mode, as it will overwrite existing content in the file.\n",
    "\n",
    "with open(\"sample.txt\", \"w\") as file:   # if the file doesn't exist, it will be created\n",
    "    file.write(\"Hello, World!\\n\")\n",
    "    file.write(\"This is a new line.\\n\")\n",
    "    \n",
    "\n",
    "# append mode (data will be added to the end of the file)\n",
    "with open(\"sample.txt\", \"a\") as file:\n",
    "    file.write(\"This line will be appended.\\n\")\n",
    "    file.write(\"Appending another line.\\n\")\n",
    "\n",
    "\n",
    "my_list = [\"Line 1\\n\", \"Line 2\\n\", \"Line 3\\n\"]\n",
    "with open(\"sample.txt\", \"a\") as file:\n",
    "    file.writelines(my_list)   # writelines() method to write a list of strings to a file"
   ]
  },
  {
   "cell_type": "markdown",
   "id": "df398ce6",
   "metadata": {},
   "source": [
    "## File Pointer/Cursor"
   ]
  },
  {
   "cell_type": "code",
   "execution_count": 11,
   "id": "09f510b7",
   "metadata": {},
   "outputs": [
    {
     "name": "stdout",
     "output_type": "stream",
     "text": [
      "Hello from\n",
      "Current Pointer Position: 10\n",
      " sample.tx\n",
      "Hello from\n"
     ]
    }
   ],
   "source": [
    "# Pointer/cursor : The pointer/cursor indicates the current position in the file where the next read or write operation will occur.\n",
    "# When a file is opened, the pointer is initially at the beginning of the file, means position 0.\n",
    "# As you read or write data, the pointer moves forward accordingly.\n",
    "\n",
    "with open(\"sample.txt\", \"r\") as file:\n",
    "    content = file.read(10)   # Read first 10 characters\n",
    "    print(content)\n",
    "\n",
    "    position = file.tell()    # Get the current position of the pointer\n",
    "    print(\"Current Pointer Position:\", position)\n",
    "\n",
    "    content = file.read(10)   # Read next 10 characters\n",
    "    print(content)\n",
    "\n",
    "    file.seek(0)              # Move the pointer back to the beginning of the file. It can be moved to any position using seek()\n",
    "    content = file.read(10)   # Read first 10 characters again\n",
    "    print(content)"
   ]
  },
  {
   "cell_type": "markdown",
   "id": "20e98c7e",
   "metadata": {},
   "source": [
    "## Read and Write both"
   ]
  },
  {
   "cell_type": "code",
   "execution_count": 14,
   "id": "232e1b78",
   "metadata": {},
   "outputs": [
    {
     "name": "stdout",
     "output_type": "stream",
     "text": [
      "Before writing:\n",
      "Hello from sample.txt\n",
      "This is a sample text file.\n",
      "After writing:\n",
      "Hello from sample.txt\n",
      "This is a sample text file.\n",
      "Adding a new line in r+ mode.\n",
      "\n",
      "After truncating:\n",
      "\n"
     ]
    }
   ],
   "source": [
    "# r+, w+, a+ (Read and Write both)\n",
    "with open(\"sample.txt\", \"r+\") as file:\n",
    "    content = file.read()\n",
    "    print(\"Before writing:\")\n",
    "    print(content)\n",
    "\n",
    "    file.write(\"\\nAdding a new line in r+ mode.\\n\")\n",
    "\n",
    "    file.seek(0)   # Move the cursor to the beginning of the file to read the updated content\n",
    "    updated_content = file.read()\n",
    "    print(\"After writing:\")\n",
    "    print(updated_content)\n",
    "\n",
    "#  Cursor position is important when reading and writing in the same file mode.\n",
    "\n",
    "# truncate() method can be used to resize the file to a specified size. If no size is specified, it will truncate the file to the current cursor position.\n",
    "    file.truncate()  # This will remove any content after the current cursor position\n",
    "    truncated_content = file.read()\n",
    "    print(\"After truncating:\")\n",
    "    print(truncated_content)"
   ]
  },
  {
   "cell_type": "markdown",
   "id": "3558cf28",
   "metadata": {},
   "source": [
    "# Exceptions Handling"
   ]
  },
  {
   "cell_type": "code",
   "execution_count": null,
   "id": "2c8ba931",
   "metadata": {},
   "outputs": [
    {
     "name": "stdout",
     "output_type": "stream",
     "text": [
      "Result: 1.0\n",
      "Division performed successfully.\n",
      "Execution completed.\n"
     ]
    }
   ],
   "source": [
    "# Exceptions means errors that occur during the execution of a program or runtime.\n",
    "# In Python, exceptions can be handled using try and except blocks to prevent the program from crashing and to provide meaningful error messages.\n",
    "\n",
    "# Exception types:\n",
    "# 1. ZeroDivisionError : Raised when a number is divided by zero.\n",
    "# 2. FileNotFoundError : Raised when trying to access a file that does not exist.\n",
    "# 3. ValueError : Raised when a function receives an argument of the correct type but an inappropriate value.\n",
    "# 4. TypeError : Raised when an operation or function is applied to an object of inappropriate type.\n",
    "# 5. IndexError : Raised when trying to access an index that is out of range for a list or string.\n",
    "# 6. KeyError : Raised when trying to access a dictionary key that does not exist.\n",
    "# 7. ImportError : Raised when an import statement fails to find the module definition or\n",
    "# 8. AttributeError : Raised when an attribute reference or assignment fails.\n",
    "# 9. SyntaxError : Raised when there is a syntax error in the code.\n",
    "# 10. IndentationError : Raised when there is an indentation error in the code.\n",
    "# 11. RuntimeError : Raised when an error occurs that doesn't fall into any of the other categories.\n",
    "# 12. MemoryError : Raised when an operation runs out of memory.\n",
    "# 13. NameError : Raised when a local or global name is not found.\n",
    "# .... and many more.\n",
    "\n",
    "# try: \n",
    "    # code that may raise an exception\n",
    "# except ExceptionType:\n",
    "    # what to do if that exception occurs\n",
    "# else:\n",
    "    # what to do if no exception occurs\n",
    "# finally:\n",
    "    # code that will run no matter what (optional)\n",
    "\n",
    "try:\n",
    "    num1 = int(input(\"Enter a number: \"))\n",
    "    num2 = int(input(\"Enter another number: \"))\n",
    "    result = num1 / num2\n",
    "    print(\"Result:\", result)\n",
    "except ZeroDivisionError:\n",
    "    print(\"Error: Division by zero is not allowed.\")\n",
    "except ValueError:\n",
    "    print(\"Error: Invalid input. Please enter a valid number.\")\n",
    "except Exception as e:   # Catch any other exception\n",
    "    print(\"An error occurred:\", e)\n",
    "else:\n",
    "    print(\"Division performed successfully.\")\n",
    "finally:\n",
    "    print(\"Execution completed.\")"
   ]
  }
 ],
 "metadata": {
  "kernelspec": {
   "display_name": "Python 3",
   "language": "python",
   "name": "python3"
  },
  "language_info": {
   "codemirror_mode": {
    "name": "ipython",
    "version": 3
   },
   "file_extension": ".py",
   "mimetype": "text/x-python",
   "name": "python",
   "nbconvert_exporter": "python",
   "pygments_lexer": "ipython3",
   "version": "3.13.2"
  }
 },
 "nbformat": 4,
 "nbformat_minor": 5
}
