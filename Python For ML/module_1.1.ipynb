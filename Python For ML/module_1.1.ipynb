{
 "cells": [
  {
   "cell_type": "markdown",
   "id": "d281b5e4",
   "metadata": {},
   "source": [
    "# Taking Input"
   ]
  },
  {
   "cell_type": "code",
   "execution_count": null,
   "id": "ab0225aa",
   "metadata": {},
   "outputs": [
    {
     "name": "stdout",
     "output_type": "stream",
     "text": [
      "Hello, Himadree! You are 25 years old and 5.1 meters tall.\n"
     ]
    }
   ],
   "source": [
    "# By default, input() takes input as a string\n",
    "\n",
    "name = input(\"Enter your name: \")\n",
    "age = int(input(\"Enter your age: \"))  # Convert input to integer\n",
    "height = float(input(\"Enter your height in meters: \"))  # Convert input to float\n",
    "\n",
    "print(f\"Hello, {name}! You are {age} years old and {height} meters tall.\")"
   ]
  },
  {
   "cell_type": "markdown",
   "id": "0dff053d",
   "metadata": {},
   "source": [
    "# Operators"
   ]
  },
  {
   "cell_type": "code",
   "execution_count": null,
   "id": "a6b7c11c",
   "metadata": {},
   "outputs": [
    {
     "name": "stdout",
     "output_type": "stream",
     "text": [
      "13\n",
      "7\n",
      "30\n",
      "3.33\n",
      "1\n",
      "3\n",
      "1000\n"
     ]
    }
   ],
   "source": [
    "# Arithmetic Operators: +, -, *, /, %, //, **\n",
    "a = 10\n",
    "b = 3   \n",
    "print(a + b)   # Addition\n",
    "print(a - b)   # Subtraction\n",
    "print(a * b)   # Multiplication\n",
    "print(round(a / b, 2))   # Division\n",
    "print(a % b)   # Modulus\n",
    "print(a // b)  # Floor Division\n",
    "print(a ** b)  # Exponentiation\n",
    "\n",
    "# Comparison Operators (return boolean): ==, !=, >, <, >=, <=\n",
    "# Logical Operators (return boolean): and, or, not\n"
   ]
  },
  {
   "cell_type": "markdown",
   "id": "85eccb0f",
   "metadata": {},
   "source": [
    "# Precedence and Associativity of Operators"
   ]
  },
  {
   "cell_type": "code",
   "execution_count": 9,
   "id": "2e259dd7",
   "metadata": {},
   "outputs": [
    {
     "name": "stdout",
     "output_type": "stream",
     "text": [
      "False\n"
     ]
    }
   ],
   "source": [
    "# When operators have the same precedence(which is performed first), associativity determines the order of evaluation.\n",
    "# Most operators are left associative, meaning they are evaluated from left to right.\n",
    "\n",
    "# Precedence order among arithmetic, comparison, and logical operators:\n",
    "# 1. Arithmetic Operators: *, /, //, %, +, -\n",
    "# 2. Comparison Operators: ==, !=, >, <, >=, <=\n",
    "# 3. Logical Operators: not, and, or\n",
    "#  If all operators are present in an expression, arithmetic operators are evaluated first, followed by comparison operators, and finally logical operators.\n",
    "\n",
    "\n",
    "result = 3 + 5 * 2 > 10 and not (4 / 2 == 2)  # Evaluates to False\n",
    "print(result)"
   ]
  },
  {
   "cell_type": "code",
   "execution_count": 8,
   "id": "e153b799",
   "metadata": {},
   "outputs": [
    {
     "name": "stdout",
     "output_type": "stream",
     "text": [
      "3.5\n"
     ]
    }
   ],
   "source": [
    "print(7/2)"
   ]
  }
 ],
 "metadata": {
  "kernelspec": {
   "display_name": "Python 3",
   "language": "python",
   "name": "python3"
  },
  "language_info": {
   "codemirror_mode": {
    "name": "ipython",
    "version": 3
   },
   "file_extension": ".py",
   "mimetype": "text/x-python",
   "name": "python",
   "nbconvert_exporter": "python",
   "pygments_lexer": "ipython3",
   "version": "3.13.2"
  }
 },
 "nbformat": 4,
 "nbformat_minor": 5
}
