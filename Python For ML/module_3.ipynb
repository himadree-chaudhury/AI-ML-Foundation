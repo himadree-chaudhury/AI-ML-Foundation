{
 "cells": [
  {
   "cell_type": "markdown",
   "id": "91e688c0",
   "metadata": {},
   "source": [
    "# String Manipulation"
   ]
  },
  {
   "cell_type": "code",
   "execution_count": null,
   "id": "54d08d8d",
   "metadata": {},
   "outputs": [
    {
     "name": "stdout",
     "output_type": "stream",
     "text": [
      "W\n",
      "ell\n",
      ".gnirts enil-itlum a si sihT\n",
      "!dlroW ,olleH\n",
      "ng.\n",
      "Hlo ol!Ti samliln tig\n",
      "42\n",
      "True\n",
      "hello, world!\n",
      "this is a multi-line string.\n",
      "HELLO, WORLD!\n",
      "THIS IS A MULTI-LINE STRING.\n",
      "Hello, world!\n",
      "this is a multi-line string.\n",
      "Hello, World!\n",
      "This Is A Multi-Line String.\n",
      "Hello, World!\n",
      "This is a multi-line string.\n",
      "7\n",
      "7\n",
      "2\n",
      "Hello, Python!\n",
      "This is a multi-line string.\n",
      "True\n",
      "True\n",
      "False\n",
      "False\n",
      "['Hello,', 'World!', 'This', 'is', 'a', 'multi-line', 'string.']\n",
      "Hello Python\n"
     ]
    }
   ],
   "source": [
    "# \"\"(double quote -> Single line), \"\"\"(triple quote -> Multi line)\n",
    "# Indexing and slicing \n",
    "text = \"\"\"Hello, World!\n",
    "This is a multi-line string.\"\"\"\n",
    "print(text[7])\n",
    "\n",
    "middle_slicing = text[1:4]  # \"ell\"\n",
    "reverse_slicing = text[::-1]  # \"gnirts-iltum-a-si-siht ,dlroW ,olleH\"\n",
    "last_slicing = text[-3:]  # \"ing.\"\n",
    "step_slicing = text[::2]  # \"Hlo ol!Ti  i  u-i e t\"\n",
    "print(middle_slicing)\n",
    "print(reverse_slicing)\n",
    "print(last_slicing)\n",
    "print(step_slicing)\n",
    "\n",
    "# String methods\n",
    "\n",
    "print(len(text))  # length of the string\n",
    "print(\"a\" in text)  # check if 'a' is in the string\n",
    "print(text.lower())  # convert to lowercase\n",
    "print(text.upper())  # convert to uppercase\n",
    "print(text.capitalize())  # capitalize the first letter\n",
    "print(text.title())  # capitalize the first letter of each word\n",
    "print(text.strip())  # remove leading and trailing whitespace\n",
    "print(text.find(\"World\"))  # find the index of the first occurrence of \"World\"\n",
    "print(text.rfind(\"World\"))  # find the index of the last occurrence of \"World\"\n",
    "print(text.count(\"o\"))  # count occurrences of \"o\"\n",
    "print(text.replace(\"World\", \"Python\"))  # replace \"World\" with \"Python\"\n",
    "print(text.startswith(\"Hello\"))  # check if the string starts with \"Hello\"\n",
    "print(text.endswith(\"string.\"))  # check if the string ends with \"string.\"\n",
    "print(text.isalpha())  # check if all characters are alphabetic\n",
    "print(text.isdigit())  # check if all characters are digits\n",
    "print(text.split())  # split the string into a list of words\n",
    "print(\" \".join([\"Hello\", \"Python\"]))  # join a list of words into a string\n"
   ]
  },
  {
   "cell_type": "markdown",
   "id": "8562fdb7",
   "metadata": {},
   "source": [
    "# List"
   ]
  },
  {
   "cell_type": "code",
   "execution_count": null,
   "id": "65fc9f72",
   "metadata": {},
   "outputs": [
    {
     "name": "stdout",
     "output_type": "stream",
     "text": [
      "[1, 'two', 3.0, [4, 5], (6, 7), {'eight': 8}]\n",
      "4\n"
     ]
    }
   ],
   "source": [
    "# List can hold multiple data types at once\n",
    "mixed_list = [1, \"two\", 3.0, [4, 5], (6, 7), {\"eight\": 8}]\n",
    "print(mixed_list)\n",
    "# Same slices and methods can be applied to lists, tuples, and other sequences.\n",
    "# List methods\n",
    "my_list = [3, 1, 4, 1, 5, 9, 2, 6, 5]\n",
    "\n",
    "print(my_list[2])  # Indexing\n",
    "my_list.append(7)   # Append a value\n",
    "my_list.insert(0, 0)    # Insert a value: insert(index, value)\n",
    "my_list.remove(5)   # Remove a value: remove(value)\n",
    "popped_value = my_list.pop()  # Pop a value: remove and return the last item or pop(index) for specific index\n",
    "my_list.sort()   # Sort the list\n",
    "my_list.reverse()  # Reverse the list"
   ]
  },
  {
   "cell_type": "markdown",
   "id": "4de02c60",
   "metadata": {},
   "source": [
    "## List as Stack"
   ]
  },
  {
   "cell_type": "code",
   "execution_count": 2,
   "id": "de249637",
   "metadata": {},
   "outputs": [
    {
     "name": "stdout",
     "output_type": "stream",
     "text": [
      "2\n",
      "2\n",
      "1\n"
     ]
    }
   ],
   "source": [
    "# Stack: LIFO (Last In First Out)\n",
    "\n",
    "stack=[]\n",
    "\n",
    "# Push elements onto the stack\n",
    "stack.append(1)\n",
    "stack.append(2)\n",
    "\n",
    "last_element = stack[-1]  # Peek at the top element\n",
    "print(last_element)\n",
    "\n",
    "# Pop elements from the stack\n",
    "popped_element = stack.pop()\n",
    "print(popped_element)\n",
    "\n",
    "last_element = stack[-1]  # Peek at the top element\n",
    "print(last_element)\n"
   ]
  },
  {
   "cell_type": "markdown",
   "id": "93563a9b",
   "metadata": {},
   "source": [
    "## List as Queue"
   ]
  },
  {
   "cell_type": "code",
   "execution_count": 3,
   "id": "16955828",
   "metadata": {},
   "outputs": [
    {
     "name": "stdout",
     "output_type": "stream",
     "text": [
      "1\n",
      "1\n",
      "2\n"
     ]
    }
   ],
   "source": [
    "# Queue: FIFO (First In First Out)\n",
    "queue = []\n",
    "\n",
    "# Enqueue elements into the queue\n",
    "queue.append(1)\n",
    "queue.append(2)\n",
    "\n",
    "# Peek at the front element\n",
    "front_element = queue[0]  # Access the first item\n",
    "print(front_element)\n",
    "\n",
    "# Dequeue elements from the queue\n",
    "dequeued_element = queue.pop(0) # Remove and return the first item\n",
    "print(dequeued_element)\n",
    "\n",
    "front_element = queue[0]  # Access the first item\n",
    "print(front_element)"
   ]
  },
  {
   "cell_type": "markdown",
   "id": "fc1d74cd",
   "metadata": {},
   "source": [
    "## List Comprehension"
   ]
  },
  {
   "cell_type": "code",
   "execution_count": 4,
   "id": "fa4c827d",
   "metadata": {},
   "outputs": [],
   "source": [
    "# List Comprehension: A concise way to create lists using a single line of code from an iterable sequence with optional conditions.\n",
    "\n",
    "squares = [x**2 for x in range(10)]  # [0, 1, 4, 9, 16, 25, 36, 49, 64, 81]\n",
    "conditional_squares = [x**2 for x in range(10) if x % 2 == 0]  # [0, 4, 16, 36, 64]\n",
    "squared_dict = {x: x**2 for x in range(1,10,3)}  # {1: 1, 4: 16, 7: 49}\n",
    "squared_set = {x**2 for x in range(5)}  # {0, 1, 4, 9, 16}"
   ]
  },
  {
   "cell_type": "code",
   "execution_count": 7,
   "id": "4eb86d50",
   "metadata": {},
   "outputs": [
    {
     "name": "stdout",
     "output_type": "stream",
     "text": [
      "['d', 'b']\n"
     ]
    }
   ],
   "source": [
    "print([\"a\", \"b\", \"c\", \"d\", \"e\"][1:4][::-2])  # 5"
   ]
  }
 ],
 "metadata": {
  "kernelspec": {
   "display_name": "Python 3",
   "language": "python",
   "name": "python3"
  },
  "language_info": {
   "codemirror_mode": {
    "name": "ipython",
    "version": 3
   },
   "file_extension": ".py",
   "mimetype": "text/x-python",
   "name": "python",
   "nbconvert_exporter": "python",
   "pygments_lexer": "ipython3",
   "version": "3.13.2"
  }
 },
 "nbformat": 4,
 "nbformat_minor": 5
}
