{
 "cells": [
  {
   "cell_type": "code",
   "execution_count": 13,
   "id": "84da5545",
   "metadata": {},
   "outputs": [
    {
     "name": "stdout",
     "output_type": "stream",
     "text": [
      "[6, 8, 10]\n"
     ]
    }
   ],
   "source": [
    "number_lst= input()\n",
    "lst=list(map(int,number_lst.split(\" \")))\n",
    "\n",
    "even_lst=list(filter(lambda x: x%2==0,lst))\n",
    "\n",
    "print(even_lst)"
   ]
  },
  {
   "cell_type": "code",
   "execution_count": null,
   "id": "e21a8058",
   "metadata": {},
   "outputs": [
    {
     "name": "stdout",
     "output_type": "stream",
     "text": [
      "Division by zero\n"
     ]
    }
   ],
   "source": [
    "def safe_divide(a,b):\n",
    "    try:\n",
    "        return a/b\n",
    "    except ZeroDivisionError:\n",
    "        return \"Division by zero\"\n",
    "    \n",
    "input_lst= input()\n",
    "lst=list(map(int,input_lst.split(\" \")))\n",
    "\n",
    "print(safe_divide(lst[0],lst[1]))"
   ]
  },
  {
   "cell_type": "code",
   "execution_count": 43,
   "id": "f0b67da9",
   "metadata": {},
   "outputs": [
    {
     "name": "stdout",
     "output_type": "stream",
     "text": [
      "Area: 50.00\n"
     ]
    }
   ],
   "source": [
    "import math\n",
    "\n",
    "class Shape:\n",
    "    def area(self):\n",
    "        return 0\n",
    "    \n",
    "class Rectangle(Shape):\n",
    "    def __init__(self,length,width):\n",
    "        self.length=length\n",
    "        self.width=width\n",
    "    def area(self):\n",
    "        return f\"{self.length*self.width:.2f}\"\n",
    "    \n",
    "class Circle(Shape):\n",
    "    def __init__(self,radius):\n",
    "        self.radius=radius\n",
    "    def area(self):\n",
    "        return f\"{math.pi*self.radius*self.radius:.2f}\"\n",
    "\n",
    "input_lst=input().split(\" \")\n",
    "\n",
    "if input_lst[0].lower()==\"rectangle\":\n",
    "    print(\"Area:\", Rectangle(float(input_lst[1]), float(input_lst[2])).area())\n",
    "elif input_lst[0].lower()==\"circle\":\n",
    "    print(\"Area:\", Circle(float(input_lst[1])).area())\n",
    "else:\n",
    "    print(\"Invalid shape\")"
   ]
  },
  {
   "cell_type": "code",
   "execution_count": 25,
   "id": "9d394e5b",
   "metadata": {},
   "outputs": [
    {
     "name": "stdout",
     "output_type": "stream",
     "text": [
      "hello\n"
     ]
    }
   ],
   "source": [
    "input_str=input()\n",
    "words=input_str.split(\" \")\n",
    "\n",
    "longest_word=\"\"\n",
    "\n",
    "for word in words:\n",
    "    if len(word)>len(longest_word):\n",
    "        longest_word=word\n",
    "    elif len(word)==len(longest_word):\n",
    "        continue\n",
    "\n",
    "print(longest_word)"
   ]
  },
  {
   "cell_type": "code",
   "execution_count": 59,
   "id": "ebdd96e9",
   "metadata": {},
   "outputs": [
    {
     "name": "stdout",
     "output_type": "stream",
     "text": [
      "Not Strong Number\n"
     ]
    }
   ],
   "source": [
    "str_number=input()\n",
    "digit_lst=[int(d) for d in str_number if d.isdigit()]\n",
    "\n",
    "factorial_sum=0\n",
    "for digit in digit_lst:\n",
    "    factorial=1\n",
    "    if digit==0:\n",
    "        factorial=1\n",
    "    else:\n",
    "        for d in range(digit,0,-1):\n",
    "            factorial*=d\n",
    "    factorial_sum+=factorial\n",
    "    \n",
    "if factorial_sum == int(str_number):\n",
    "    print(\"Strong Number\")\n",
    "else:\n",
    "    print(\"Not Strong Number\")"
   ]
  }
 ],
 "metadata": {
  "kernelspec": {
   "display_name": "Python 3",
   "language": "python",
   "name": "python3"
  },
  "language_info": {
   "codemirror_mode": {
    "name": "ipython",
    "version": 3
   },
   "file_extension": ".py",
   "mimetype": "text/x-python",
   "name": "python",
   "nbconvert_exporter": "python",
   "pygments_lexer": "ipython3",
   "version": "3.13.2"
  }
 },
 "nbformat": 4,
 "nbformat_minor": 5
}
