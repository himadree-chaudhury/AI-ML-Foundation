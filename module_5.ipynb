{
 "cells": [
  {
   "cell_type": "markdown",
   "id": "82545d39",
   "metadata": {},
   "source": [
    "# Tuple"
   ]
  },
  {
   "cell_type": "code",
   "execution_count": 1,
   "id": "01312c5c",
   "metadata": {},
   "outputs": [
    {
     "name": "stdout",
     "output_type": "stream",
     "text": [
      "('apple', 'banana', 'cherry')\n",
      "('apple',)\n"
     ]
    }
   ],
   "source": [
    "# Declare in a parenthesized list \n",
    "# Can covert a list to a tuple using the tuple() function\n",
    "fruits = tuple(['apple', 'banana', 'cherry'])\n",
    "print(fruits)\n",
    "# Tuple with one item must have a trailing comma\n",
    "single_item_tuple = ('apple',)\n",
    "print(single_item_tuple)\n",
    "\n",
    "# Have same indexing, slicing and nested features as lists\n",
    "# Tuples are immutable\n",
    "# Can not add, remove or change items in a tuple"
   ]
  },
  {
   "cell_type": "markdown",
   "id": "074e06ae",
   "metadata": {},
   "source": [
    "## Tuple Methods"
   ]
  },
  {
   "cell_type": "code",
   "execution_count": 2,
   "id": "45f93762",
   "metadata": {},
   "outputs": [
    {
     "name": "stdout",
     "output_type": "stream",
     "text": [
      "1\n",
      "1\n"
     ]
    }
   ],
   "source": [
    "# count() - returns the number of times a specified value occurs in a tuple\n",
    "# index() - searches the tuple for a specified value and returns the position of where it was found\n",
    "\n",
    "print(fruits.count('apple'))  # Output: 1\n",
    "print(fruits.index('banana'))  # Output: 1"
   ]
  },
  {
   "cell_type": "markdown",
   "id": "b469dc16",
   "metadata": {},
   "source": [
    "# Set"
   ]
  },
  {
   "cell_type": "code",
   "execution_count": null,
   "id": "c84edc72",
   "metadata": {},
   "outputs": [
    {
     "name": "stdout",
     "output_type": "stream",
     "text": [
      "{1, 2, 3}\n",
      "set()\n",
      "1\n",
      "2\n",
      "3\n"
     ]
    }
   ],
   "source": [
    "# Unordered collection of unique items so indexing and slicing are not possible\n",
    "# Can add or remove items but not change items \n",
    "# Empty set is created using set() function otherwise {} creates an empty dictionary\n",
    "# Sets are mutable but can only contain immutable (hashable) items that mean you can not have lists or dictionaries as items in a set but you can have tuples\n",
    "my_set = {1, 2, 3}\n",
    "print(my_set)\n",
    "\n",
    "empty_set = set()\n",
    "print(empty_set)\n",
    "\n",
    "# To access items in a set, you can loop through the set using a for loop\n",
    "for item in my_set:\n",
    "    print(item)"
   ]
  },
  {
   "cell_type": "markdown",
   "id": "132fc4c8",
   "metadata": {},
   "source": [
    "## Set Methods"
   ]
  },
  {
   "cell_type": "code",
   "execution_count": 4,
   "id": "362c4906",
   "metadata": {},
   "outputs": [
    {
     "name": "stdout",
     "output_type": "stream",
     "text": [
      "{1, 2, 3, 4, 5}\n",
      "{3}\n",
      "{1, 2}\n",
      "{1, 2, 4, 5}\n",
      "False\n",
      "True\n",
      "True\n"
     ]
    }
   ],
   "source": [
    "my_set.add(4)  # Add an item\n",
    "my_set.remove(2)  # Remove an item\n",
    "my_set.discard(5)  # Remove an item if it exists, no error if it doesn't\n",
    "my_set.pop()  # Remove and return an arbitrary item\n",
    "\n",
    "# Union, Intersection, Difference, Symmetric Difference\n",
    "set_a = {1, 2, 3}\n",
    "set_b = {3, 4, 5}\n",
    "\n",
    "print(set_a.union(set_b))  # {1, 2, 3, 4, 5}\n",
    "print(set_a.intersection(set_b))  # {3}\n",
    "print(set_a.difference(set_b))  # {1, 2} : Elements in set_a but not in set_b\n",
    "print(set_a.symmetric_difference(set_b))  # {1, 2, 4, 5} : Elements in either set_a or set_b but not in both\n",
    "\n",
    "print(set_a.isdisjoint(set_b))  # False : Checks if two sets have no elements in common\n",
    "print(set_a.issubset({1, 2, 3, 4}))  # True : Checks if set_a is a subset of another set\n",
    "print(set_a.issuperset({1, 2}))  # True : Checks if set_a is a superset of another set"
   ]
  },
  {
   "cell_type": "markdown",
   "id": "0c86e678",
   "metadata": {},
   "source": [
    "# Dictionary"
   ]
  },
  {
   "cell_type": "code",
   "execution_count": 17,
   "id": "ceabcc3d",
   "metadata": {},
   "outputs": [
    {
     "name": "stdout",
     "output_type": "stream",
     "text": [
      "{'name': 'Alice', 'age': 25, 'location': 'New York', 'is_student': False, 'courses': ['Math', 'Science'], 'phone': '0123456789'}\n",
      "Alice\n",
      "{('a', 1): 'value1', ('b', 2): 'value2'}\n"
     ]
    }
   ],
   "source": [
    "# key :value pairs where keys are unique & immutable within a dictionary\n",
    "# Can be created using {} or dict() function\n",
    "\n",
    "my_dict = {'name': 'Alice', 'age': 25, \"location\": 'New York', 'is_student': False, 'courses': ['Math', 'Science'], \"phone\": \"0123456789\"}\n",
    "print(my_dict)\n",
    "\n",
    "print(my_dict['name'])  # Access value by key : dictionary_name[key]\n",
    "my_dict['age'] = 26  # Change value by key\n",
    "\n",
    "# If key has declared multiple times, last value will be assigned to that key\n",
    "\n",
    "# Hashable (immutable) types can be used as keys\n",
    "# Unhashable types like dictionaries cannot be used as keys because they are mutable\n",
    "new_dict = {('a', 1): 'value1', ('b', 2): 'value2'}  # Tuple as key\n",
    "print(new_dict)\n",
    "# new_dict = {[1, 2]: 'value1'}  # List as key - This will raise a TypeError"
   ]
  },
  {
   "cell_type": "markdown",
   "id": "e6c04889",
   "metadata": {},
   "source": [
    "## Dictionary Methods"
   ]
  },
  {
   "cell_type": "code",
   "execution_count": null,
   "id": "b4feb69f",
   "metadata": {},
   "outputs": [
    {
     "name": "stdout",
     "output_type": "stream",
     "text": [
      "26\n",
      "Not Specified\n",
      "None\n",
      "{'name': 'Alice', 'age': 27, 'location': 'New York', 'is_student': False, 'courses': ['Math', 'Science'], 'phone': '0123456789', 'gender': 'Female'}\n",
      "{'name': 'Alice', 'location': 'New York', 'is_student': False, 'courses': ['Math', 'Science'], 'phone': '0123456789', 'gender': 'Female'}\n",
      "{'name': 'Alice', 'location': 'New York', 'is_student': False, 'courses': ['Math', 'Science'], 'phone': '0123456789'}\n",
      "{'name': 'Alice', 'location': 'New York', 'is_student': False, 'courses': ['Math', 'Science']}\n",
      "dict_keys(['name', 'location', 'is_student', 'courses'])\n",
      "dict_values(['Alice', 'New York', False, ['Math', 'Science']])\n",
      "dict_items([('name', 'Alice'), ('location', 'New York'), ('is_student', False), ('courses', ['Math', 'Science'])])\n",
      "key : name\n",
      "key : location\n",
      "key : is_student\n",
      "key : courses\n",
      "value : Alice\n",
      "value : New York\n",
      "value : False\n",
      "value : ['Math', 'Science']\n",
      "name: Alice\n",
      "location: New York\n",
      "is_student: False\n",
      "courses: ['Math', 'Science']\n",
      "4\n",
      "{'name': 'Alice', 'location': 'New York', 'is_student': False, 'courses': ['Math', 'Science']}\n",
      "{}\n"
     ]
    }
   ],
   "source": [
    "print(my_dict.get('age'))  # Access value using get() method\n",
    "#  If the key does not exist, it returns None (or a specified default value) instead of raising an error\n",
    "print(my_dict.get('gender', 'Not Specified'))  # Default value if key not found\n",
    "\n",
    "\n",
    "print(my_dict.update({'age': 27, 'gender': 'Female'}))  # Update existing key or add new key-value pair \n",
    "print(my_dict)\n",
    "\n",
    "del my_dict['age']  # Remove a key-value pair by key\n",
    "print(my_dict)\n",
    "\n",
    "my_dict.pop('gender', 'Not Found')  # Remove a key-value pair by key and return its value\n",
    "print(my_dict)\n",
    "my_dict.popitem()  # Remove and return the last inserted key-value pair\n",
    "print(my_dict)\n",
    "\n",
    "# View objects : dynamic views that reflect changes in the dictionary in real-time\n",
    "print(my_dict.keys())  # Returns all keys in the dictionary in a list\n",
    "print(my_dict.values())  # Returns all values in the dictionary in a list\n",
    "print(my_dict.items())  # Returns all key-value pairs in the dictionary as tuples in a list\n",
    "\n",
    "# This view object made it possible to iterate over the keys, values, or key-value pairs of the dictionary\n",
    "for key in my_dict.keys():\n",
    "    print(f\"key : {key}\")\n",
    "for value in my_dict.values():\n",
    "    print(f\"value : {value}\")\n",
    "for key, value in my_dict.items():\n",
    "    print(f\"{key}: {value}\")\n",
    "\n",
    "\n",
    "print(len(my_dict))  # Returns the number of key-value pairs in the dictionary\n",
    "\n",
    "copied_dict = my_dict.copy()  # Returns a shallow copy of the dictionary\n",
    "print(copied_dict)\n",
    "\n",
    "copied_dict.clear()  # Removes all key-value pairs from the dictionary\n",
    "print(copied_dict)"
   ]
  },
  {
   "cell_type": "markdown",
   "id": "ab7b4689",
   "metadata": {},
   "source": [
    "## Dictionary Comprehension"
   ]
  },
  {
   "cell_type": "code",
   "execution_count": 21,
   "id": "a1131acb",
   "metadata": {},
   "outputs": [
    {
     "name": "stdout",
     "output_type": "stream",
     "text": [
      "{0: 0, 1: 1, 2: 4, 3: 9, 4: 16}\n",
      "{2: 2, 3: 3, 5: 5, 7: 7, 11: 11, 13: 13, 17: 17, 19: 19}\n",
      "{'A': (1, 2), 'B': (3, 4), 'C': (5, 6)}\n"
     ]
    }
   ],
   "source": [
    "# {key: expression(iterable) for item in iterable if condition}\n",
    "\n",
    "squared_dict = {x: x**2 for x in range(5)}  # Creates a dictionary with numbers and their squares\n",
    "print(squared_dict)\n",
    "\n",
    "get_primes = {x: x for x in range(20) if all(x % i != 0 for i in range(2, int(x**0.5) + 1)) and x > 1}  # Dictionary of prime numbers from 0 to 19\n",
    "print(get_primes)\n",
    "\n",
    "# all: Returns True if all elements in the iterable are true (or if the iterable is empty)\n",
    "# zip: Combines two or more iterables (like lists or tuples) into a single iterable of tuples, where each tuple contains one element from each of the input iterables\n",
    "co_ordinates = [(1, 2), (3, 4), (5, 6)]\n",
    "locations = ['A', 'B', 'C']\n",
    "zipped_dict = {loc: coord for loc, coord in zip(locations, co_ordinates)}  # Creates a dictionary by zipping two lists\n",
    "print(zipped_dict)\n"
   ]
  }
 ],
 "metadata": {
  "kernelspec": {
   "display_name": "Python 3",
   "language": "python",
   "name": "python3"
  },
  "language_info": {
   "codemirror_mode": {
    "name": "ipython",
    "version": 3
   },
   "file_extension": ".py",
   "mimetype": "text/x-python",
   "name": "python",
   "nbconvert_exporter": "python",
   "pygments_lexer": "ipython3",
   "version": "3.13.2"
  }
 },
 "nbformat": 4,
 "nbformat_minor": 5
}
