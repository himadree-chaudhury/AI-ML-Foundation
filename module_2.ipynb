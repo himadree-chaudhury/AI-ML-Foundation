{
 "cells": [
  {
   "cell_type": "markdown",
   "id": "68dab93c",
   "metadata": {},
   "source": [
    "# Conditional Statements & Loops"
   ]
  },
  {
   "cell_type": "code",
   "execution_count": null,
   "id": "cec1726b",
   "metadata": {},
   "outputs": [
    {
     "name": "stdout",
     "output_type": "stream",
     "text": [
      "0 is even\n",
      "0\n",
      "1 is odd\n",
      "1\n",
      "2 is even\n",
      "2\n",
      "3 is odd\n",
      "3\n",
      "4 is even\n",
      "4\n",
      "0\n",
      "1\n",
      "2\n",
      "3\n",
      "4\n",
      "1, 3, "
     ]
    }
   ],
   "source": [
    "# for loop: iterate over a sequence (list, tuple, string)\n",
    "for i in range(5):  #range(5) generates numbers from 0 to 4, range(1, 5) generates numbers from 1 to 4, range(1, 10, 2) generates odd numbers from 1 to 9, range(start, stop, step)\n",
    "    if i % 2 == 0:\n",
    "        print(f\"{i} is even\")   # f->formatted string literals, makes it easier to embed expressions inside string literals\n",
    "    elif i % 2 != 0:\n",
    "        print(f\"{i} is odd\")\n",
    "    else:\n",
    "        print(f\"{i} is zero\")\n",
    "    print(i)  # 0, 1, 2, 3, 4\n",
    "\n",
    "#  while loop: repeat as long as a condition is true\n",
    "count = 0\n",
    "while count < 5:\n",
    "    print(count)\n",
    "    count += 1\n",
    "\n",
    "# break: exit the loop, continue: skip the current iteration\n",
    "for i in range(10):\n",
    "    if i == 5:\n",
    "        break  # exit the loop when i is 5\n",
    "    if i % 2 == 0:\n",
    "        continue  # skip even numbers\n",
    "    print(i, end=\", \")  # prints 1, 3\n"
   ]
  },
  {
   "cell_type": "code",
   "execution_count": null,
   "id": "dcfa6c8d",
   "metadata": {},
   "outputs": [],
   "source": [
    "number = int(input(\"Enter a number: \"))\n",
    "number //= 10 # number = number // 10, floor division\n",
    "print(number)"
   ]
  }
 ],
 "metadata": {
  "kernelspec": {
   "display_name": "Python 3",
   "language": "python",
   "name": "python3"
  },
  "language_info": {
   "codemirror_mode": {
    "name": "ipython",
    "version": 3
   },
   "file_extension": ".py",
   "mimetype": "text/x-python",
   "name": "python",
   "nbconvert_exporter": "python",
   "pygments_lexer": "ipython3",
   "version": "3.13.2"
  }
 },
 "nbformat": 4,
 "nbformat_minor": 5
}
