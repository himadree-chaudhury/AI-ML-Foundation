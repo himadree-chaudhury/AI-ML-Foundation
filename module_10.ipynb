{
 "cells": [
  {
   "cell_type": "markdown",
   "id": "6d49ade6",
   "metadata": {},
   "source": [
    "# NumPy\n",
    "NumPy(Numerical Python) is a fundamental package for scientific computing in Python. It provides support for arrays, matrices, and a large collection of mathematical functions to operate on these data structures.\n",
    "\n",
    "## Key Features of NumPy\n",
    "- **N-Dimensional Array Object**: NumPy introduces the ndarray, a powerful n-dimensional array object of same data type that allows for efficient storage and manipulation of large datasets.\n",
    "    - **Performance**: NumPy is implemented in C and Fortran, which makes it much faster than traditional Python lists for numerical computations.\n",
    "    - **Vectorized Operations**: NumPy allows for vectorized operations, enabling element-wise operations on arrays without the need for explicit loops.Like SIMD (Single Instruction, Multiple Data) operations, this leads to more concise and readable code.\n",
    "    - **Memory Efficiency**: NumPy arrays consume less memory compared to Python lists, making them more efficient for large datasets. In Python lists, each element is a separate object, whereas in NumPy arrays, elements are stored in a contiguous block of memory.\n",
    "    - **Array Indexing and Slicing**: NumPy provides advanced indexing and slicing capabilities, allowing users to access and manipulate subsets of data easily.\n",
    "    - **Data Types**: NumPy supports a wide range of data types, including integers, floats, complex numbers, and more, allowing for precise control over memory usage and computational performance.\n",
    "- **Broadcasting**: NumPy supports broadcasting, which allows for arithmetic operations on arrays of different shapes.\n",
    "- **Mathematical Functions**: NumPy provides a wide range of mathematical functions, including trigonometric, statistical, and algebraic functions.\n",
    "- **Linear Algebra**: NumPy includes functions for performing linear algebra operations, such as matrix multiplication, eigenvalue decomposition, and singular value decomposition.\n",
    "- **Random Number Generation**: NumPy has a built-in module for generating random numbers, which is useful for simulations and probabilistic modeling.\n",
    "- **Integration with Other Libraries**: NumPy is often used in conjunction with other scientific computing libraries, such as SciPy, Pandas, and Matplotlib.\n"
   ]
  },
  {
   "cell_type": "markdown",
   "id": "7a3273e4",
   "metadata": {},
   "source": [
    "## N-Dimensional Array Object"
   ]
  },
  {
   "cell_type": "code",
   "execution_count": 41,
   "id": "5b5fbb46",
   "metadata": {},
   "outputs": [
    {
     "name": "stdout",
     "output_type": "stream",
     "text": [
      "type: <class 'numpy.ndarray'>\n"
     ]
    }
   ],
   "source": [
    "import numpy as np\n",
    "\n",
    "## 1-Dimensional Array Object\n",
    "a = np.array([1, 2, 3, 4, 5])\n",
    "print(\"type:\", type(a))\n",
    "\n",
    "# 2-Dimensional Array Object\n",
    "b = np.array([[1, 2, 3], # first row\n",
    "              [4, 5, 6]]) # second row\n",
    "\n",
    "# 3-Dimensional Array Object\n",
    "# It's like a cube or a stack of matrices. Pile of 2D arrays.\n",
    "c = np.array([[[1, 2, 3],    # first matrix, first row\n",
    "               [4, 5, 6]],   # first matrix, second row\n",
    "              [[7, 8, 9],    # second matrix, first row\n",
    "               [10, 11, 12]]])# second matrix, second row"
   ]
  },
  {
   "cell_type": "code",
   "execution_count": 42,
   "id": "4db4181b",
   "metadata": {},
   "outputs": [
    {
     "name": "stdout",
     "output_type": "stream",
     "text": [
      "Number of dimensions: 1 2 3\n",
      "Shape of the array: (5,) (2, 3) (2, 2, 3)\n",
      "Size of the array: 5 6 12\n",
      "Data type of the array: int64 int64 int64\n"
     ]
    }
   ],
   "source": [
    "# Array Attributes\n",
    "\n",
    "print(\"Number of dimensions:\", a.ndim, b.ndim, c.ndim)  # number of dimensions\n",
    "print(\"Shape of the array:\", a.shape, b.shape, c.shape) # shape of the array, means no. of rows and columns\n",
    "print(\"Size of the array:\", a.size, b.size, c.size)    # total number of elements\n",
    "print(\"Data type of the array:\", a.dtype, b.dtype, c.dtype) # data type of the elements"
   ]
  },
  {
   "cell_type": "code",
   "execution_count": 43,
   "id": "a804bfe0",
   "metadata": {},
   "outputs": [
    {
     "name": "stdout",
     "output_type": "stream",
     "text": [
      "float64\n",
      "int32\n",
      "Type for mixed array: <U32\n"
     ]
    }
   ],
   "source": [
    "# Data Types\n",
    "\n",
    "# NumPy get the data type of the array elements by default while creating an array by upcasting. It supports various data types like:\n",
    "# int8, int16, int32, int64, uint8, uint16, uint32, uint64, u32, float16, float32, float64, complex64, complex128, bool, object, string_, unicode_ etc.\n",
    "\n",
    "# But we can also specify the data type explicitly while creating an array using the dtype parameter or astype() method.\n",
    "d = np.array([1, 2, 3, 4], dtype=np.float64) # specifying data type as float64\n",
    "print(d.dtype)\n",
    "d = d.astype(np.int32) # converting data type to int32\n",
    "print(d.dtype)\n",
    "\n",
    "e=np.array([1,True, \"Hello\", 3.5])\n",
    "print(\"Type for mixed array:\",e.dtype)"
   ]
  },
  {
   "cell_type": "code",
   "execution_count": 44,
   "id": "fe5a1e9e",
   "metadata": {},
   "outputs": [
    {
     "name": "stdout",
     "output_type": "stream",
     "text": [
      "Array from list: [1 2 3 4 5]\n",
      "Array from tuple:\n",
      " [[1 2 3]\n",
      " [4 5 6]]\n",
      "Array from 1d set: [1 2 3 4 5]\n",
      "Array from 2d set:\n",
      " [[1 2 3]\n",
      " [4 5 6]]\n",
      "Array from dict keys: ['a' 'b' 'c']\n",
      "Array from dict values: [1 2 3]\n",
      "Array from dict items:\n",
      " [['a' '1']\n",
      " ['b' '2']\n",
      " ['c' '3']]\n"
     ]
    }
   ],
   "source": [
    "# n-D arrays creation from existing data\n",
    "\n",
    "# From a list or tuple\n",
    "list_1d = [1, 2, 3, 4, 5]\n",
    "array_from_list = np.array(list_1d)\n",
    "\n",
    "tuple_2d = ((1, 2, 3), (4, 5, 6))\n",
    "array_from_tuple = np.array(tuple_2d)\n",
    "\n",
    "print(\"Array from list:\", array_from_list)\n",
    "print(\"Array from tuple:\\n\", array_from_tuple)\n",
    "\n",
    "# From a set\n",
    "set_1d = {1, 2, 3, 4, 5}\n",
    "array_from_set_1d = np.array(list(set_1d), dtype=int)\n",
    "print(\"Array from 1d set:\", array_from_set_1d)\n",
    "\n",
    "set_2d = { (1, 2, 3), (4, 5, 6) }\n",
    "array_from_set_2d = np.array(list(set_2d))\n",
    "array_from_set_2d = array_from_set_2d.astype(int)\n",
    "print(\"Array from 2d set:\\n\", array_from_set_2d)\n",
    "\n",
    "# From a dictionary\n",
    "dict_data = {'a': 1, 'b': 2, 'c': 3}\n",
    "array_from_dict_keys = np.array(list(dict_data.keys()))\n",
    "array_from_dict_values = np.array(list(dict_data.values()))\n",
    "array_from_dict_items = np.array(list(dict_data.items()))\n",
    "print(\"Array from dict keys:\", array_from_dict_keys)\n",
    "print(\"Array from dict values:\", array_from_dict_values)\n",
    "print(\"Array from dict items:\\n\", array_from_dict_items)"
   ]
  },
  {
   "cell_type": "code",
   "execution_count": 45,
   "id": "e4d4b912",
   "metadata": {},
   "outputs": [
    {
     "name": "stdout",
     "output_type": "stream",
     "text": [
      "Zeros Array:\n",
      " [[0. 0. 0.]\n",
      " [0. 0. 0.]]\n",
      "Zeros Like Array:\n",
      " [[0 0 0]\n",
      " [0 0 0]]\n",
      "Ones Array:\n",
      " [[1. 1.]\n",
      " [1. 1.]\n",
      " [1. 1.]]\n",
      "Ones Like Array:\n",
      " [[1 1 1]\n",
      " [1 1 1]]\n",
      "Empty Array:\n",
      " [[        0         0]\n",
      " [727857104       385]]\n",
      "Full Array:\n",
      " [[7 7 7]\n",
      " [7 7 7]]\n",
      "Full Infinity Array:\n",
      " [[inf inf inf]\n",
      " [inf inf inf]]\n",
      "Full Like Array:\n",
      " [[9 9 9]\n",
      " [9 9 9]]\n",
      "Identity Matrix:\n",
      " [[1. 0. 0.]\n",
      " [0. 1. 0.]\n",
      " [0. 0. 1.]]\n"
     ]
    }
   ],
   "source": [
    "# Creating n-D array from scratch\n",
    "\n",
    "zeros_array = np.zeros((2, 3)) # 2 rows, 3 columns, filled with zeros\n",
    "zeros_like_array= np.zeros_like(array_from_tuple) # array with same shape as array_from_tuple, filled with zeros\n",
    "ones_array = np.ones((3, 2))   # 3 rows, 2 columns, filled with ones\n",
    "ones_like_array = np.ones_like(array_from_tuple) # array with same shape as ones_array, filled with ones\n",
    "\n",
    "empty_array = np.empty((2, 2),dtype=np.int32) # 2 rows, 2 columns, uninitialized values from junk memory\n",
    "full_array = np.full((2, 3), 7) # 2 rows, 3 columns, filled with 7\n",
    "full_infinity_array = np.full((2, 3), np.inf) # 2 rows, 3 columns, filled with infinity\n",
    "full_like_array = np.full_like(array_from_tuple, 9) # array with same shape as array_from_tuple, filled with 9\n",
    "\n",
    "identity_matrix = np.eye(3)    # 3x3 identity matrix\n",
    "\n",
    "print(\"Zeros Array:\\n\", zeros_array)\n",
    "print(\"Zeros Like Array:\\n\", zeros_like_array)\n",
    "print(\"Ones Array:\\n\", ones_array)\n",
    "print(\"Ones Like Array:\\n\", ones_like_array)\n",
    "\n",
    "print(\"Empty Array:\\n\", empty_array)\n",
    "print(\"Full Array:\\n\", full_array)\n",
    "print(\"Full Infinity Array:\\n\", full_infinity_array)\n",
    "print(\"Full Like Array:\\n\", full_like_array)\n",
    "\n",
    "print(\"Identity Matrix:\\n\", identity_matrix)"
   ]
  },
  {
   "cell_type": "code",
   "execution_count": 50,
   "id": "0149fd26",
   "metadata": {},
   "outputs": [
    {
     "name": "stdout",
     "output_type": "stream",
     "text": [
      "Random Array:\n",
      " [[0.56704811 0.17680863 0.04112348]\n",
      " [0.35384491 0.39450415 0.36613234]]\n",
      "Random Integer Array:\n",
      " [[0 4 6 1]\n",
      " [3 7 6 8]\n",
      " [4 1 9 8]]\n",
      "Random Uniform Array:\n",
      " [[2.44165144 1.6196021 ]\n",
      " [1.8365753  2.50944764]]\n"
     ]
    }
   ],
   "source": [
    "# Creating n-D with random values\n",
    "random_array = np.random.rand(2, 3)        # 2 rows, 3 columns, random values between 0 and 1\n",
    "random_integer_array = np.random.randint(0, 10, (3, 4)) # 3 rows, 4 columns, random integers between 0 and 9 (start , end-1, shape)\n",
    "random_uniform_array = np.random.uniform(1.0, 5.0, (2, 2)) # 2 rows, 2 columns, random float values between 1.0 and 5.0\n",
    "\n",
    "\n",
    "print(\"Random Array:\\n\", random_array)\n",
    "print(\"Random Integer Array:\\n\", random_integer_array)\n",
    "print(\"Random Uniform Array:\\n\", random_uniform_array)"
   ]
  }
 ],
 "metadata": {
  "kernelspec": {
   "display_name": "base",
   "language": "python",
   "name": "python3"
  },
  "language_info": {
   "codemirror_mode": {
    "name": "ipython",
    "version": 3
   },
   "file_extension": ".py",
   "mimetype": "text/x-python",
   "name": "python",
   "nbconvert_exporter": "python",
   "pygments_lexer": "ipython3",
   "version": "3.13.5"
  }
 },
 "nbformat": 4,
 "nbformat_minor": 5
}
